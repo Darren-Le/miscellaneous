{
  "cells": [
   {
    "cell_type": "markdown",
    "metadata": {},
    "source": [
     "# 数论方程的数学规划求解\n",
     "\n",
     "示例为刘兴禄主编《数学建模与数学规划：方法、案例及编程实践（Python + COPT/Gurobi实现）》第六章的案例，我们将该问题建模，并使用OptVerse求解器进行求解。"
    ]
   },
   {
    "cell_type": "markdown",
    "metadata": {},
    "source": [
     "## 问题描述\n",
     "\n",
     "本案例探讨一个看似简单实则十分困难的数论方程问题。\n",
     "\n",
     "**问题**：已知 $a, b, c$ 满足以下关系：\n",
     "$$\\frac{a}{b+c}+\\frac{b}{a+c}+\\frac{c}{a+b}=4$$\n",
     "\n",
     "**求方程的一组正整数解。**\n",
     "\n",
     "数学规划方案通过将方程约束视为数学规划中的约束条件，目标函数设为常数（寻找可行解），将数论问题转换为约束规划问题。"
    ]
   },
   {
    "cell_type": "markdown",
    "metadata": {},
    "source": [
     "## 数学建模\n",
     "\n",
     "### 决策变量\n",
     "\n",
     "$x_1, x_2, x_3 \\geq 1$：分别对应方程中的 $a, b, c$，且为正整数。\n",
     "\n",
     "$m_1, m_2, m_3 \\geq 0$：辅助变量，分别等于原方程左端的三个部分。\n",
     "\n",
     "### 目标函数\n",
     "\n",
     "由于问题只需找到一组可行解，目标函数设为常数：\n",
     "$$\\min \\quad 1$$\n",
     "\n",
     "### 约束条件\n",
     "\n",
     "通过引入辅助变量 $m_1, m_2, m_3$，将原分式约束转换为：\n",
     "\n",
     "**辅助变量定义约束**：\n",
     "$$m_1 = \\frac{x_1}{x_2+x_3}, \\quad m_2 = \\frac{x_2}{x_1+x_3}, \\quad m_3 = \\frac{x_3}{x_1+x_2}$$\n",
     "\n",
     "**等价转换约束**：\n",
     "$$x_1 = m_1(x_2+x_3)$$\n",
     "$$x_2 = m_2(x_1+x_3)$$  \n",
     "$$x_3 = m_3(x_1+x_2)$$\n",
     "\n",
     "**原方程约束**：\n",
     "$$m_1 + m_2 + m_3 = 4$$\n",
     "\n",
     "**正整数约束**：\n",
     "$$x_i \\geq 1, \\quad x_i \\in \\mathbb{Z}^+, \\quad \\forall i=1,2,3$$"
    ]
   },
   {
    "cell_type": "markdown",
    "metadata": {},
    "source": [
     "## Python实现\n",
     "\n",
     "### 环境配置"
    ]
   },
   {
    "cell_type": "code",
    "execution_count": null,
    "metadata": {},
    "outputs": [],
    "source": [
     "from optvpy import *"
    ]
   },
   {
    "cell_type": "markdown",
    "metadata": {},
    "source": [
     "### 建立模型"
    ]
   },
   {
    "cell_type": "code",
    "execution_count": null,
    "metadata": {},
    "outputs": [],
    "source": [
     "env = OPTVEnv()          # 创建优化环境\n",
     "model = OPTVModel(env)   # 创建优化模型\n",
     "\n",
     "# 设置非凸模型求解参数\n",
     "model.SetParam('NonConvex', 2)"
    ]
   },
   {
    "cell_type": "markdown",
    "metadata": {},
    "source": [
     "### 添加变量"
    ]
   },
   {
    "cell_type": "code",
    "execution_count": null,
    "metadata": {},
    "outputs": [],
    "source": [
     "# 主决策变量 (a, b, c为正整数)\n",
     "a = model.AddVar(lb=1, vtype=OPTV_INTEGER, name=\"a\")\n",
     "b = model.AddVar(lb=1, vtype=OPTV_INTEGER, name=\"b\") \n",
     "c = model.AddVar(lb=1, vtype=OPTV_INTEGER, name=\"c\")\n",
     "\n",
     "# 辅助变量 (连续变量)\n",
     "m1 = model.AddVar(lb=0, vtype=OPTV_CONTINUOUS, name=\"m1\")\n",
     "m2 = model.AddVar(lb=0, vtype=OPTV_CONTINUOUS, name=\"m2\")\n",
     "m3 = model.AddVar(lb=0, vtype=OPTV_CONTINUOUS, name=\"m3\")"
    ]
   },
   {
    "cell_type": "markdown",
    "metadata": {},
    "source": [
     "### 添加约束"
    ]
   },
   {
    "cell_type": "code",
    "execution_count": null,
    "metadata": {},
    "outputs": [],
    "source": [
     "# 原方程约束：m1 + m2 + m3 = 4\n",
     "model.AddConstr(m1 + m2 + m3 == 4, name=\"equation\")\n",
     "\n",
     "# 辅助变量与主变量的关系约束\n",
     "model.AddConstr(a == m1 * (b + c), name=\"aux1\")\n",
     "model.AddConstr(b == m2 * (a + c), name=\"aux2\") \n",
     "model.AddConstr(c == m3 * (a + b), name=\"aux3\")"
    ]
   },
   {
    "cell_type": "markdown",
    "metadata": {},
    "source": [
     "### 设置目标函数"
    ]
   },
   {
    "cell_type": "code",
    "execution_count": null,
    "metadata": {},
    "outputs": [],
    "source": [
     "# 目标函数：寻找可行解，目标函数为常数\n",
     "model.SetObjective(1, OPTVSense.MINIMIZE)"
    ]
   },
   {
    "cell_type": "markdown",
    "metadata": {},
    "source": [
     "### 优化模型"
    ]
   },
   {
    "cell_type": "code",
    "execution_count": null,
    "metadata": {},
    "outputs": [],
    "source": [
     "# 求解模型\n",
     "model.Optimize()\n",
     "\n",
     "# 输出求解结果\n",
     "if model.Status == OPTVStatus.OPTIMAL:\n",
     "    print('求解成功!')\n",
     "    print(f'a = {int(a.X)}')\n",
     "    print(f'b = {int(b.X)}')\n",
     "    print(f'c = {int(c.X)}')\n",
     "    \n",
     "    # 验证结果\n",
     "    a_val, b_val, c_val = int(a.X), int(b.X), int(c.X)\n",
     "    result = a_val/(b_val+c_val) + b_val/(a_val+c_val) + c_val/(a_val+b_val)\n",
     "    print(f'验证: {result}')\n",
     "else:\n",
     "    print('未找到可行解')"
    ]
   },
   {
    "cell_type": "markdown",
    "metadata": {},
    "source": [
     "## 求解困难分析\n",
     "\n",
     "虽然上述模型看起来简洁，但该数论方程的正整数解实际上是三个非常大的数。正确答案是：\n",
     "\n",
     "$$\n",
     "\\begin{aligned}\n",
     "a &= 154476802108746166441951315019919837485664325669565 \\\\\n",
     "&\\quad 431700026634898253202035277999 \\\\\n",
     "b &= 368751317941299998271978115652254748254929799689719 \\\\\n",
     "&\\quad 70996283137471637224634055579 \\\\\n",
     "c &= 437361267792869725786125260237139015281653755816161 \\\\\n",
     "&\\quad 3618621437993378423467772036\n",
     "\\end{aligned}\n",
     "$$\n",
     "\n",
     "这些数字分别有81位、80位和79位！如此巨大的整数，求解器很难在合理时间内找到正确的解。\n",
     "\n",
     "### 数值精度问题与改进\n",
     "\n",
     "方法1引入辅助变量可能导致微小误差，这是由于求解器对约束违反度设置了一个阈值，违反度在该阈值之内的约束被认为满足。如需更高精度，可以调整求解器的容差参数："
    ]
   },
   {
    "cell_type": "code",
    "execution_count": null,
    "metadata": {},
    "outputs": [],
    "source": [
     "# 尝试更高精度求解（设置时间限制）\n",
     "env = OPTVEnv()\n",
     "model = OPTVModel(env)\n",
     "\n",
     "# 设置更严格的容差参数和时间限制\n",
     "model.SetParam('NonConvex', 2)\n",
     "model.SetParam('TimeLimit', 10.0)  # 10秒时间限制\n",
     "model.SetParam('FeasTol', 1e-9)    # 更严格的可行性容差\n",
     "model.SetParam('OptTol', 1e-9)     # 更严格的最优性容差\n",
     "\n",
     "# 重新定义变量（使用相同名字）\n",
     "a = model.AddVar(lb=1, vtype=OPTV_INTEGER, name=\"a\")\n",
     "b = model.AddVar(lb=1, vtype=OPTV_INTEGER, name=\"b\")\n",
     "c = model.AddVar(lb=1, vtype=OPTV_INTEGER, name=\"c\")\n",
     "m1 = model.AddVar(lb=0, vtype=OPTV_CONTINUOUS, name=\"m1\")\n",
     "m2 = model.AddVar(lb=0, vtype=OPTV_CONTINUOUS, name=\"m2\")\n",
     "m3 = model.AddVar(lb=0, vtype=OPTV_CONTINUOUS, name=\"m3\")\n",
     "\n",
     "# 添加约束\n",
     "model.AddConstr(m1 + m2 + m3 == 4, name=\"equation\")\n",
     "model.AddConstr(a == m1 * (b + c), name=\"aux1\")\n",
     "model.AddConstr(b == m2 * (a + c), name=\"aux2\")\n",
     "model.AddConstr(c == m3 * (a + b), name=\"aux3\")\n",
     "\n",
     "# 设置目标函数\n",
     "model.SetObjective(1, OPTVSense.MINIMIZE)\n",
     "\n",
     "# 求解（限时）\n",
     "print(\"尝试更高精度求解（10秒时间限制）...\")\n",
     "model.Optimize()\n",
     "\n",
     "if model.Status == OPTVStatus.OPTIMAL:\n",
     "    print(\"在时间限制内找到高精度解！\")\n",
     "    print(f'a = {int(a.X)}')\n",
     "    print(f'b = {int(b.X)}')\n",
     "    print(f'c = {int(c.X)}')\n",
     "elif model.Status == OPTVStatus.TIME_LIMIT:\n",
     "    print(\"时间限制到达，未能找到正整数解。\")\n",
     "    print(\"这说明该问题确实具有相当的计算复杂度。\")\n",
     "else:\n",
     "    print(\"求解过程中遇到其他状态。\")"
    ]
   },
   {
    "cell_type": "markdown",
    "metadata": {},
    "source": [
     "## 拓展：求解整数解\n",
     "\n",
     "既然求正整数解如此困难，我们可以将问题放宽到整数解。这通常会大大降低求解难度。\n",
     "\n",
     "### 重新建模求解整数解"
    ]
   },
   {
    "cell_type": "code",
    "execution_count": null,
    "metadata": {},
    "outputs": [],
    "source": [
     "# 重新创建模型求解整数解\n",
     "env = OPTVEnv()\n",
     "model = OPTVModel(env)\n",
     "model.SetParam('NonConvex', 2)\n",
     "\n",
     "# 重新定义变量（允许负数，但使用相同变量名）\n",
     "a = model.AddVar(lb=-OPTV_INFINITY, vtype=OPTV_INTEGER, name=\"a\")\n",
     "b = model.AddVar(lb=-OPTV_INFINITY, vtype=OPTV_INTEGER, name=\"b\")\n",
     "c = model.AddVar(lb=-OPTV_INFINITY, vtype=OPTV_INTEGER, name=\"c\")\n",
     "\n",
     "# 辅助变量\n",
     "m1 = model.AddVar(lb=-OPTV_INFINITY, vtype=OPTV_CONTINUOUS, name=\"m1\")\n",
     "m2 = model.AddVar(lb=-OPTV_INFINITY, vtype=OPTV_CONTINUOUS, name=\"m2\")\n",
     "m3 = model.AddVar(lb=-OPTV_INFINITY, vtype=OPTV_CONTINUOUS, name=\"m3\")\n",
     "\n",
     "# 添加非零和约束的辅助变量（避免分母为0）\n",
     "u1 = model.AddVar(lb=-OPTV_INFINITY, vtype=OPTV_INTEGER, name=\"u1\")\n",
     "u2 = model.AddVar(lb=-OPTV_INFINITY, vtype=OPTV_INTEGER, name=\"u2\") \n",
     "u3 = model.AddVar(lb=-OPTV_INFINITY, vtype=OPTV_INTEGER, name=\"u3\")\n",
     "\n",
     "abs_u1 = model.AddVar(lb=0, vtype=OPTV_INTEGER, name=\"abs_u1\")\n",
     "abs_u2 = model.AddVar(lb=0, vtype=OPTV_INTEGER, name=\"abs_u2\")\n",
     "abs_u3 = model.AddVar(lb=0, vtype=OPTV_INTEGER, name=\"abs_u3\")"
    ]
   },
   {
    "cell_type": "markdown",
    "metadata": {},
    "source": [
     "### 添加约束"
    ]
   },
   {
    "cell_type": "code",
    "execution_count": null,
    "metadata": {},
    "outputs": [],
    "source": [
     "# 原方程约束\n",
     "model.AddConstr(m1 + m2 + m3 == 4, name=\"equation\")\n",
     "\n",
     "# 辅助变量关系约束\n",
     "model.AddConstr(a == m1 * (b + c), name=\"aux1\")\n",
     "model.AddConstr(b == m2 * (a + c), name=\"aux2\") \n",
     "model.AddConstr(c == m3 * (a + b), name=\"aux3\")\n",
     "\n",
     "# 分母非零约束\n",
     "model.AddConstr(u1 == a + b, name=\"sum1\")\n",
     "model.AddConstr(u2 == a + c, name=\"sum2\")\n",
     "model.AddConstr(u3 == b + c, name=\"sum3\")\n",
     "\n",
     "# 绝对值约束确保分母不为零\n",
     "model.AddGenConstrAbs(abs_u1, u1)\n",
     "model.AddGenConstrAbs(abs_u2, u2) \n",
     "model.AddGenConstrAbs(abs_u3, u3)\n",
     "\n",
     "model.AddConstr(abs_u1 >= 1, name=\"nonzero1\")\n",
     "model.AddConstr(abs_u2 >= 1, name=\"nonzero2\")\n",
     "model.AddConstr(abs_u3 >= 1, name=\"nonzero3\")\n",
     "\n",
     "# 设置目标函数\n",
     "model.SetObjective(1, OPTVSense.MINIMIZE)"
    ]
   },
   {
    "cell_type": "markdown",
    "metadata": {},
    "source": [
     "### 求解整数解"
    ]
   },
   {
    "cell_type": "code",
    "execution_count": null,
    "metadata": {},
    "outputs": [],
    "source": [
     "# 求解模型\n",
     "model.Optimize()\n",
     "\n",
     "# 输出求解结果\n",
     "if model.Status == OPTVStatus.OPTIMAL:\n",
     "    print('找到整数解:')\n",
     "    a_val = int(a.X)\n",
     "    b_val = int(b.X) \n",
     "    c_val = int(c.X)\n",
     "    print(f'a = {a_val}')\n",
     "    print(f'b = {b_val}')\n",
     "    print(f'c = {c_val}')\n",
     "    \n",
     "    # 验证结果\n",
     "    result = a_val/(b_val+c_val) + b_val/(a_val+c_val) + c_val/(a_val+b_val)\n",
     "    print(f'\\n验证: {a_val}/({b_val}+{c_val}) + {b_val}/({a_val}+{c_val}) + {c_val}/({a_val}+{b_val})')\n",
     "    print(f'    = {a_val}/{b_val+c_val} + {b_val}/{a_val+c_val} + {c_val}/{a_val+b_val}')\n",
     "    print(f'    = {a_val/(b_val+c_val):.6f} + {b_val/(a_val+c_val):.6f} + {c_val/(a_val+b_val):.6f}')\n",
     "    print(f'    = {result:.6f}')\n",
     "else:\n",
     "    print('未找到整数解')"
    ]
   },
   {
    "cell_type": "markdown",
    "metadata": {},
    "source": [
     "## 结论\n",
     "\n",
     "本案例展示了如何将看似与优化无关的数论问题转换为数学规划模型。关键的建模技巧包括：\n",
     "\n",
     "1. **引入辅助变量**：将复杂的分式约束转换为二次约束\n",
     "2. **约束等价转换**：通过数学变换简化约束形式  \n",
     "3. **绝对值约束处理**：使用OptVerse的绝对值约束功能处理非零条件\n",
     "4. **问题规模分析**：理解问题的内在难度，适当调整求解目标\n",
     "5. **求解器参数调优**：通过调整容差和时间限制来平衡精度和效率\n",
     "\n",
     "通过将正整数解问题放宽为整数解问题，我们可以更容易地找到可行解，例如 $a=-1, b=11, c=4$。这种建模方法在处理复杂数学问题时非常有用，特别是当问题涉及非线性关系时，通过适当的变量替换和约束转换，可以将其转化为求解器能够处理的标准形式。"
    ]
   }
  ],
  "metadata": {
   "kernelspec": {
    "display_name": "Python 3",
    "language": "python",
    "name": "python3"
   },
   "language_info": {
    "codemirror_mode": {
     "name": "ipython",
     "version": 3
    },
    "file_extension": ".py",
    "mimetype": "text/x-python",
    "name": "python",
    "nbconvert_exporter": "python",
    "pygments_lexer": "ipython3",
    "version": "3.8.0"
   }
  },
  "nbformat": 4,
  "nbformat_minor": 4
 }