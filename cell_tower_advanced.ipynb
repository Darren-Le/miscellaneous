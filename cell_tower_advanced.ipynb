{
    "cells": [
     {
      "cell_type": "markdown",
      "metadata": {},
      "source": [
       "# Cell Tower Coverage"
      ]
     },
     {
      "cell_type": "markdown",
      "metadata": {},
      "source": [
       "This notebook aims to emulate the Gurobi Cell Tower Coverage example using OptVerse.\n",
       "This example demonstrates solving a cell tower placement problem to provide signal coverage to the largest number of people possible.\n",
       "\n",
       "## Prerequisites\n",
       "\n",
       "The repo containing this, and other examples is available through CodeHub"
      ]
     },
     {
      "cell_type": "markdown",
      "metadata": {},
      "source": [
       "## Problem Description\n",
       "\n",
       "The following section is taken verbatim from [Gurobi Cell Tower Coverage example](link/to/cell_tower.ipynb).\n",
       "\n",
       "A telecom company needs to build a set of cell towers to provide signal coverage for the inhabitants of a given city. A number of potential locations where the towers could be built have been identified. The towers have a fixed range, and -due to budget constraints- only a limited number of them can be built. Given these restrictions, the company wishes to provide coverage to the largest percentage of the population possible. To simplify the problem, the company has split the area it wishes to cover into a set of regions, each of which has a known population. The goal is then to choose which of the potential locations the company should build cell towers on -in order to provide coverage to as many people as possible.\n",
       "\n",
       "The Cell Tower Coverage Problem is an instance of the Maximal Covering Location Problem. It is also related to the Set Cover Problem."
      ]
     },
     {
      "cell_type": "markdown",
      "metadata": {},
      "source": [
       "## Solution Approach\n",
       "\n",
       "The following section is taken verbatim from [Gurobi Cell Tower Coverage example](link/to/cell_tower.ipynb).\n",
       "\n",
       "Mathematical programming is a declarative approach where the modeler formulates a mathematical optimization model that captures the key aspects of a complex decision problem. The OptVerse Optimizer solves such models using state-of-the-art mathematics and computer science.\n",
       "\n",
       "A mathematical optimization model has five components, namely:\n",
       "\n",
       "* Sets and indices.\n",
       "* Parameters.\n",
       "* Decision variables.\n",
       "* Objective function(s).\n",
       "* Constraints.\n",
       "\n",
       "We now present a mixed-integer programming (MIP) formulation for the Cell Tower Coverage Problem."
      ]
     },
     {
      "cell_type": "markdown",
      "metadata": {},
      "source": [
       "## Model Formulation\n",
       "\n",
       "### Sets and Indices\n",
       "\n",
       "$i \\in T$: Index and set of potential sites to build a tower.\n",
       "\n",
       "$j \\in R$: Index and set of regions.\n",
       "\n",
       "$G(T,R,E)$: A bipartite graph defined over the set $T$ of potential sites to build a tower, the set of regions $R$ that we want to cover, and $E$ is the set of edges, where we have an edge $(i,j) \\in E$ if region $j \\in R$ can be covered by a tower on location $i \\in T$.\n",
       "\n",
       "### Parameters\n",
       "\n",
       "$c_{i} \\in \\mathbb{R}^+$: The cost of setting up a tower at site $i$.\n",
       "\n",
       "$p_{j} \\in \\mathbb{N}$: The population at region $j$.\n",
       "\n",
       "### Decision Variables\n",
       "\n",
       "$covered_{j} \\in \\{0, 1 \\}$: This variable is equal to 1 if region $j$ is covered; and 0 otherwise.\n",
       "\n",
       "$build_{i} \\in \\{0, 1 \\}$: This variable is equal to 1 if tower $i$ is built; and 0 otherwise.\n",
       "\n",
       "### Objective Function\n",
       "\n",
       "- **Population covered**. We seek to maximize the total population covered by the towers.\n",
       "\n",
       "$\\text{Max} \\quad Z = \\sum_{j \\in R} p_{j} \\cdot covered_{j}$\n",
       "\n",
       "### Constraints\n",
       "\n",
       "- **Coverage**. For each region $j \\in R$ ensure that at least one tower that covers a region must be selected.\n",
       "\n",
       "$\\sum_{(i,j) \\in E} build_{i} \\geq covered_{j} \\quad \\forall j \\in R$\n",
       "\n",
       "- **Budget**. We need to ensure that the total cost of building towers do not exceed the allocated budget.\n",
       "\n",
       "$\\sum_{i \\in T} c_{i} \\cdot build_{i} \\leq \\text{budget}$"
      ]
     },
     {
      "cell_type": "markdown",
      "metadata": {},
      "source": [
       "## Python Implementation\n",
       "\n",
       "This example considers a bipartite graph for 6 towers and 9 regions. The following table illustrates which regions (columns) are covered by each cell tower site (rows).\n",
       "\n",
       "| <i></i> | Region 0 | Region 1 | Region 2 | Region 3 | Region 4 | Region 5 | Region 6 | Region 7 | Region 8 |\n",
       "| --- | --- | --- | --- | --- | --- | --- | --- | --- |  --- |\n",
       "| Tower 0 | 1 | 1 | - | - | - | 1 | - | - |  - |\n",
       "| Tower 1 | 1 | - | - | - | - | - | - | 1 |  1 |\n",
       "| Tower 2 | - | - | 1 | 1 | 1 | - | 1 | - |  - |\n",
       "| Tower 3 | - | - | 1 | - | - | 1 | 1 | - |  - |\n",
       "| Tower 4 | 1 | - | 1 | - | - | - | 1 | 1 |  1 |\n",
       "| Tower 5 | - | - | - | 1 | 1 | - | - | - |  1 |\n",
       "\n",
       "The population at each region is stated in the following table.\n",
       "\n",
       "| <i></i> | Region 0 | Region 1 | Region 2 | Region 3 | Region 4 | Region 5 | Region 6 | Region 7 | Region 8 |\n",
       "| --- | --- | --- | --- | --- | --- | --- | --- | --- | --- |\n",
       "| Population | 523 | 690 | 420 | 1010 | 1200 | 850 | 400 | 1008 | 950 |\n",
       "\n",
       "The cost to build a cell tower at each location site is stated in the following table.\n",
       "\n",
       "| <i></i> | Cost (millions of USD) |\n",
       "| --- | --- |\n",
       "| Tower 0 | 4.2 |\n",
       "| Tower 1 | 6.1 |\n",
       "| Tower 2 | 5.2 |\n",
       "| Tower 3 | 5.5 |\n",
       "| Tower 4 | 4.8 |\n",
       "| Tower 5 | 9.2 |\n",
       "\n",
       "The allocated budget is $\\$20,000,000$.\n",
       "\n",
       "We now import the OptVerse Python Module. Then, we initialize the data structures with the given data."
      ]
     },
     {
      "cell_type": "code",
      "execution_count": null,
      "metadata": {},
      "outputs": [],
      "source": [
       "from optverse import *\n",
       "\n",
       "# tested with OptVerse and Python 3.7.0\n",
       "\n",
       "# Parameters\n",
       "budget = 20\n",
       "regions = list(range(9))\n",
       "population = {0: 523, 1: 690, 2: 420, 3: 1010, 4: 1200, 5: 850, 6: 400, 7: 1008, 8: 950}\n",
       "\n",
       "sites = list(range(6))\n",
       "coverage = {\n",
       "    0: {0, 1, 5},\n",
       "    1: {0, 7, 8},\n",
       "    2: {2, 3, 4, 6},\n",
       "    3: {2, 5, 6},\n",
       "    4: {0, 2, 6, 7, 8},\n",
       "    5: {3, 4, 8}\n",
       "}\n",
       "cost = {0: 4.2, 1: 6.1, 2: 5.2, 3: 5.5, 4: 4.8, 5: 9.2}"
      ]
     },
     {
      "cell_type": "markdown",
      "metadata": {},
      "source": [
       "### Model Deployment\n",
       "\n",
       "We now determine the model for the Cell Tower Coverage Problem, by defining the decision variables, constraints, and objective function. Next, we start the optimization process and OptVerse finds the plan to build towers that maximizes the coverage of the population given the budget allocated."
      ]
     },
     {
      "cell_type": "code",
      "execution_count": null,
      "metadata": {},
      "outputs": [],
      "source": [
       "# MIP model formulation\n",
       "m = Model(\"cell_tower\")\n",
       "\n",
       "# Decision variables\n",
       "build = m.addVars(sites, vtype=BINARY, name=\"Build\")\n",
       "is_covered = m.addVars(regions, vtype=BINARY, name=\"Is_covered\")\n",
       "\n",
       "# Constraints\n",
       "m.addConstrs((sum(build[t] for t in sites if r in coverage[t]) >= is_covered[r]\n",
       "              for r in regions), name=\"Build2cover\")\n",
       "\n",
       "m.addConstr(sum(cost[s] * build[s] for s in sites) <= budget, name=\"budget\")\n",
       "\n",
       "# Objective\n",
       "m.setObjective(sum(population[r] * is_covered[r] for r in regions), MAXIMIZE)\n",
       "\n",
       "# Optimize\n",
       "m.optimize()"
      ]
     },
     {
      "cell_type": "markdown",
      "metadata": {},
      "source": [
       "## Analysis\n",
       "The result of the optimization model shows that the maximum population that can be covered with the $\\$20,000,000$ budget is determined. Let's see the solution that achieves that optimal result.\n",
       "\n",
       "### Cell Tower Build Plan\n",
       "\n",
       "This plan determines at which site locations to build a cell tower."
      ]
     },
     {
      "cell_type": "code",
      "execution_count": null,
      "metadata": {},
      "outputs": [],
      "source": [
       "# Display optimal values of decision variables\n",
       "\n",
       "for tower in sites:\n",
       "    if build[tower].X > 0.5:\n",
       "        print(f\"\\n Build a cell tower at location Tower {tower}.\")"
      ]
     },
     {
      "cell_type": "markdown",
      "metadata": {},
      "source": [
       "### Coverage Plan\n",
       "\n",
       "This plan determines which regions are covered by the towers built."
      ]
     },
     {
      "cell_type": "code",
      "execution_count": null,
      "metadata": {},
      "outputs": [],
      "source": [
       "for region in regions:\n",
       "    if is_covered[region].X > 0.5:\n",
       "        print(f\"\\n Region {region} with population {population[region]} is covered.\")"
      ]
     },
     {
      "cell_type": "markdown",
      "metadata": {},
      "source": [
       "### Demand Fulfillment Metrics\n",
       "\n",
       "- **Coverage**: Percentage of the population covered by the cell towers built."
      ]
     },
     {
      "cell_type": "code",
      "execution_count": null,
      "metadata": {},
      "outputs": [],
      "source": [
       "# Percentage of the population covered by the cell towers built is computed as follows.\n",
       "\n",
       "total_population = sum(population[r] for r in regions)\n",
       "covered_population = sum(population[r] * is_covered[r].X for r in regions)\n",
       "\n",
       "coverage_percentage = round(100 * covered_population / total_population, 2)\n",
       "\n",
       "print(f\"\\n The population coverage associated to the cell towers build plan is: {coverage_percentage} %\")\n",
       "print(f\" Total population covered: {int(covered_population)} out of {total_population}\")"
      ]
     },
     {
      "cell_type": "markdown",
      "metadata": {},
      "source": [
       "### Resources Utilization Metrics\n",
       "\n",
       "- **Budget consumption**: Percentage of the budget allocated to build the cell towers."
      ]
     },
     {
      "cell_type": "code",
      "execution_count": null,
      "metadata": {},
      "outputs": [],
      "source": [
       "# Percentage of budget consumed to build cell towers\n",
       "\n",
       "total_cost = sum(cost[s] * build[s].X for s in sites)\n",
       "budget_consumption = round(100 * total_cost / budget, 2)\n",
       "\n",
       "print(f\"\\n The percentage of budget consumed associated to the cell towers build plan is: {budget_consumption} %\")\n",
       "print(f\" Total cost: ${total_cost} million out of ${budget} million budget\")"
      ]
     },
     {
      "cell_type": "markdown",
      "metadata": {},
      "source": [
       "## Conclusion\n",
       "\n",
       "In this example, we address the problem of building cell towers to provide signal coverage to the largest number of people while satisfying a budget constraint. We learned how to formulate the problem as a MIP model. Also, we learned how to implement the MIP model formulation and solve it using the OptVerse Python API with its clean and intuitive interface that closely mirrors Gurobi's API structure."
      ]
     }
    ],
    "metadata": {
     "kernelspec": {
      "display_name": "Python 3",
      "language": "python",
      "name": "python3"
     },
     "language_info": {
      "codemirror_mode": {
       "name": "ipython",
       "version": 3
      },
      "file_extension": ".py",
      "mimetype": "text/x-python",
      "name": "python",
      "nbconvert_exporter": "python",
      "pygments_lexer": "ipython3",
      "version": "3.7.1"
     }
    },
    "nbformat": 4,
    "nbformat_minor": 2
   }